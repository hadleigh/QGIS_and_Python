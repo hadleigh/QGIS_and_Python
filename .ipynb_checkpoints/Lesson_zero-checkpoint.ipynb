{
 "cells": [
  {
   "cell_type": "markdown",
   "metadata": {},
   "source": [
    "# Lesson zero: Table of Contents"
   ]
  },
  {
   "cell_type": "markdown",
   "metadata": {
    "collapsed": true
   },
   "source": [
    "- <a href='Lesson_1.ipynb#step_2' >Introducing Vector Layers</a>\n",
    "\n",
    "- <a href='Lesson_1.ipynb#step_3' >Using the Measuring tool & Map Projections<a/>\n",
    "\n",
    "- <a href='Lesson_1.ipynb#step_4' >Introducing Spatial Data</a>\n",
    "\n",
    "- <a href='Lesson_2.ipynb#step_1' >Creating a Map Display</a>\n",
    "\n",
    "- <a href='Lesson_2.ipynb#step_2' >Changing Layer Properties</a>\n",
    "\n",
    "- <a href='Lesson_2.ipynb#step_3' >Using the Attribute Table</a>\n",
    "\n",
    "- <a href='Lesson_2.ipynb#step_4' >Using the Data Query Tool</a>\n",
    "\n",
    "- <a href='Lesson_2.ipynb#step_5' >Using the Spatial Query Tool</a>\n",
    "\n",
    "- <a href='Lesson_3.ipynb#step_2' >Files from online sources</a>\n",
    "\n",
    "- <a href='Lesson_3.ipynb#step_3' >Graduated colour ramps</a>\n",
    "\n",
    "- <a href='Lesson_4.ipynb#step_1' >Obtianing Raster Data</a>\n",
    "\n",
    "- <a href='Lesson_4.ipynb#step_3' >Measuring an Area</a>\n",
    "\n",
    "- <a href='Lesson_5.ipynb#step_1' >Outlining Shapefiles</a>\n",
    "\n",
    "- <a href='Lesson_5.ipynb#step_2' >Introducing pyShp</a>\n",
    "\n",
    "- <a href='Lesson_5.ipynb#sf.help' >pyShp help</a>\n",
    "\n",
    "- <a href='Lesson_6.ipynb#step_1' >Command line basics</a>\n",
    "\n",
    "- <a href='Lesson_6.ipynb#step_2' >Clipping a Raster to a Shapefile Boundary</a>\n",
    "\n",
    "- <a href='Lesson_6.ipynb#step_3' >Using OSGEO in Python to explore JPEG files</a>\n",
    "\n"
   ]
  },
  {
   "cell_type": "code",
   "execution_count": null,
   "metadata": {
    "collapsed": true
   },
   "outputs": [],
   "source": []
  }
 ],
 "metadata": {
  "kernelspec": {
   "display_name": "Python 3",
   "language": "python",
   "name": "python3"
  },
  "language_info": {
   "codemirror_mode": {
    "name": "ipython",
    "version": 3
   },
   "file_extension": ".py",
   "mimetype": "text/x-python",
   "name": "python",
   "nbconvert_exporter": "python",
   "pygments_lexer": "ipython3",
   "version": "3.5.1"
  }
 },
 "nbformat": 4,
 "nbformat_minor": 0
}
