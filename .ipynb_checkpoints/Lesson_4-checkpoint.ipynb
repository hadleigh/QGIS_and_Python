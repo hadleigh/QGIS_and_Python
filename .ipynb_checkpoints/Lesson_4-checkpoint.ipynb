{
 "cells": [
  {
   "cell_type": "markdown",
   "metadata": {},
   "source": [
    "# Lesson 4: Introducing Raster Data"
   ]
  },
  {
   "cell_type": "markdown",
   "metadata": {},
   "source": [
    "## Sections:\n",
    "\n",
    "1. [Obtaining Raster Data](#step_1)\n",
    "\n",
    "\n",
    "- [Suggested Readings](#readings)\n",
    "- [References](#references)"
   ]
  },
  {
   "cell_type": "markdown",
   "metadata": {},
   "source": [
    "In this lesson we will be obtaining files from a remote sensing application, and performing some limited geospatial analysis. The remote sensing tools will have done most of the work for us for the moment, yet we will be exploring these satillite derived images in closer detail later. This is where we will have our first experience of using raster data, and some of the information we can obtain form such files."
   ]
  },
  {
   "cell_type": "markdown",
   "metadata": {},
   "source": [
    "# <a id='step_1'></a>"
   ]
  },
  {
   "cell_type": "markdown",
   "metadata": {},
   "source": [
    "## Step 1: Obtaining Raster Data\n",
    "\n",
    "We will start with obtaining a GeoTIFF which just like its simpler cousin, the TIFF, is an image taken with a digital sensor; in this case the sensor onboard a satellite.\n",
    "\n",
    "The benifit to using a GeoTIFF is that it contains embedded spatial and map projection data (among other information) which in turn can be interpreted by GIS programs. \n",
    "\n",
    "We will be interested in the Fort McMurray wildfire during May 2016. Images of this fire were taken from many obiting craft, and one page displaying these images was on NASA's [Earth Observatory website](#http://earthobservatory.nasa.gov/?eocn=topnav&eoci=logo). You can search for the posted images and description by: **Earth Observatory > Images > Natural Hazards > May 2016 > Fort McMurray Burn Scar**.\n",
    "\n",
    "Underneath the 'image of the day' is usually a blurb about the images origin and any copyright information. In the case of the Fort McMurry fire, this helps to identify when various satellites flew over the correct section of Alberta. You will be looking at these swath paths in greater details later. \n",
    "\n",
    "This leads us to the [Rapid Response - LANCE website](#https://lance.modaps.eosdis.nasa.gov/imagery/subsets/?subset=AERONET_Fort_McMurray.2016136) for the date of 15th May 2016. This is after the major damage to the Fort McMurry area, but with the fire still slowly growing.\n",
    "\n",
    "Click the Rapid Response link above to access the files from both the Terra and Aqua satellites. It doesnt matter which source you use, as long as you download:\n",
    "\n",
    "- One 250m scale True colour image - GeoTIFF\n",
    "- One 250m scale - GeoTIFF\n",
    "\n"
   ]
  },
  {
   "cell_type": "markdown",
   "metadata": {},
   "source": [
    "# <a id='step_2'></a>"
   ]
  },
  {
   "cell_type": "markdown",
   "metadata": {},
   "source": [
    "## Step 2: Providing Geographyical Reference\n",
    "\n"
   ]
  },
  {
   "cell_type": "markdown",
   "metadata": {},
   "source": [
    "# <a id='readings'></a>"
   ]
  },
  {
   "cell_type": "markdown",
   "metadata": {},
   "source": [
    "## Suggested Readings"
   ]
  },
  {
   "cell_type": "markdown",
   "metadata": {},
   "source": [
    "# <a id='references'></a>"
   ]
  },
  {
   "cell_type": "markdown",
   "metadata": {},
   "source": [
    "## References\n",
    "\n",
    "- [Wikipeadia, \"GeoTIFF\". 2016](#https://en.wikipedia.org/wiki/GeoTIFF)"
   ]
  },
  {
   "cell_type": "code",
   "execution_count": null,
   "metadata": {
    "collapsed": true
   },
   "outputs": [],
   "source": []
  }
 ],
 "metadata": {
  "kernelspec": {
   "display_name": "Python 3",
   "language": "python",
   "name": "python3"
  },
  "language_info": {
   "codemirror_mode": {
    "name": "ipython",
    "version": 3
   },
   "file_extension": ".py",
   "mimetype": "text/x-python",
   "name": "python",
   "nbconvert_exporter": "python",
   "pygments_lexer": "ipython3",
   "version": "3.5.1"
  }
 },
 "nbformat": 4,
 "nbformat_minor": 0
}
