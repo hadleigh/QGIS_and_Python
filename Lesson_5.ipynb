{
 "cells": [
  {
   "cell_type": "markdown",
   "metadata": {},
   "source": [
    "# Lesson 5: Python for GIS. (The brief introduction) "
   ]
  },
  {
   "cell_type": "markdown",
   "metadata": {},
   "source": [
    "## Sections:\n",
    "\n",
    "1. [File Requirements](#step_1)\n",
    "2. [Using Python](#step_2)\n",
    "\n",
    "\n",
    "- [Suggested Readings](#readings)\n",
    "- [References](#references)\n"
   ]
  },
  {
   "cell_type": "markdown",
   "metadata": {},
   "source": [
    "# <a id='step_1'></a>"
   ]
  },
  {
   "cell_type": "markdown",
   "metadata": {},
   "source": [
    "## Step 1: File Requirements\n",
    "\n",
    "As you may have caught on from the previous readings and references, the 'shapefiles' that are used for the background and basemaps on our map canvas (ie. our vector layers) ar not just a single file at all. Each shapefiles requires the collection of three files:\n",
    "\n",
    "1. A **.shp** file which acts as the main file\n",
    "\n",
    "2. A **.shx** file which contains indexing data\n",
    "\n",
    "3. A **.dbf** file which is the database file, containing the geomtery attributes\n",
    "\n",
    "\n",
    "- See *\"Learning Geospatial analysis with Python 2nd Ed\"* page 62 for more on file types. \n",
    "\n",
    "For the examples in this lesson we will be using files that have been retrieved as **.zip** packages, and unzipped or extraced into a directory with the same name as the files it contains.\n",
    "\n",
    "**Important:** if you wish to change a file name, you either do it to all the files in that folder, or use an app such as **QGIS Browser** to ensure you don't end up with an orphaned .shp file. That is, when you open a .shp file in QGIS, it is expecting there to be *at least* the .shx and .dbf files with the same name/prefix in the same directory. \n",
    "\n",
    "From here-on-in: the term **shapefile** will refer the generic collection of files required, not any particular extension. \n"
   ]
  },
  {
   "cell_type": "markdown",
   "metadata": {},
   "source": [
    "# <a id='step_2'></a>"
   ]
  },
  {
   "cell_type": "markdown",
   "metadata": {},
   "source": [
    "## Step 2: Using Python\n",
    "\n",
    "Although QGIS does come bundled with python 2.7, and has a interactive window within the QGIS GUI, we will be sticking with scripting some tools to use upon shapefiles independently of QGIS. This is for a couple of reasons:\n",
    "\n",
    "- At the time of writing, QGIS 3.x is on its way, but with an undertermined time frame. QGIS 3.0 will be using Python 3.x. see <a href='http://blog.qgis.org/2016/02/10/qgis-3-0-plans/'>QGIS 3 Blog.</a>. Switching between python 2 and python 3 is best left to those that have no other choice. \n",
    "\n",
    "\n",
    "- Using the pyShp library we can treat shapefiles like any other database file, and access most of its information in the form of lists. This is good practise for programming in general, and lets us explore the way shapefiles are generically written for all GIS application.\n",
    "\n",
    "\n",
    "- When we read and write files in pyShp we will be creating object instances, and is a *fairly* painless way to get acquainted with object orientated programming. \n",
    "\n",
    "\n",
    "- This is just an introduction, so we better leave something for you to do on your summer holidays. "
   ]
  },
  {
   "cell_type": "markdown",
   "metadata": {},
   "source": [
    "First thing we will need is the pyShp library. On the command line/terminal:"
   ]
  },
  {
   "cell_type": "markdown",
   "metadata": {},
   "source": [
    "```\n",
    "pip install physhp\n",
    "```"
   ]
  },
  {
   "cell_type": "markdown",
   "metadata": {},
   "source": [
    "- This library is wriiten by Joel Lawhead, and has pretty good documentation at https://pypi.python.org/pypi/pyshp.\n",
    "\n",
    "As with any script that is reading / writing files, the complier needs to know where these files are kept. For the instructions below, make sure you either replace the given path with the approprite directory/folder etc for the script to find the shapefiles, or ```cd``` to the directory in the terminal and run python directly from there.\n",
    "\n",
    "Firstly, we will start by taking a shapefile form Stats Canada that shows the boundaries of all provinces and territoires. We will create a new file with a only a selcted province 'clipped' from the original file:"
   ]
  },
  {
   "cell_type": "code",
   "execution_count": 38,
   "metadata": {
    "collapsed": false
   },
   "outputs": [],
   "source": [
    "# importing the pyShp library\n",
    "\n",
    "import shapefile as sf"
   ]
  },
  {
   "cell_type": "markdown",
   "metadata": {},
   "source": [
    "Uncomment the line below and run the cell to read the documentaion regarding classes / methods / inheritence etc. "
   ]
  },
  {
   "cell_type": "code",
   "execution_count": 39,
   "metadata": {
    "collapsed": true
   },
   "outputs": [],
   "source": [
    "# help(sf)"
   ]
  },
  {
   "cell_type": "code",
   "execution_count": 40,
   "metadata": {
    "collapsed": false
   },
   "outputs": [],
   "source": [
    "# create a reader instance\n",
    "\n",
    "in_file = sf.Reader(\"Data/Canada/Canada\")"
   ]
  },
  {
   "cell_type": "markdown",
   "metadata": {},
   "source": [
    "Each shapefile has a 'shapeType' indicating if it is holding point data, polygon data, etc:"
   ]
  },
  {
   "cell_type": "code",
   "execution_count": 41,
   "metadata": {
    "collapsed": false
   },
   "outputs": [
    {
     "data": {
      "text/plain": [
       "5"
      ]
     },
     "execution_count": 41,
     "metadata": {},
     "output_type": "execute_result"
    }
   ],
   "source": [
    "in_file.shapeType"
   ]
  },
  {
   "cell_type": "markdown",
   "metadata": {},
   "source": [
    "Since we are going to clip a section of this vector layer to create another file, we will make sure the file types are the same, and create an instance of a writer object by:"
   ]
  },
  {
   "cell_type": "code",
   "execution_count": 42,
   "metadata": {
    "collapsed": true
   },
   "outputs": [],
   "source": [
    "# create a writer instance\n",
    "\n",
    "out_file = sf.Writer(shapeType = infile.shapeType)"
   ]
  },
  {
   "cell_type": "markdown",
   "metadata": {},
   "source": [
    "The file then has 'feilds' to explore, yet in this case they are very brief. The 'deletion flag' is to do with the .dbf database, and is a hidden feild. In the \"Canada\" file the only other two fields are the names of the provinces and terrritories. One field for English, the other for French:"
   ]
  },
  {
   "cell_type": "code",
   "execution_count": 43,
   "metadata": {
    "collapsed": false
   },
   "outputs": [
    {
     "data": {
      "text/plain": [
       "[('DeletionFlag', 'C', 1, 0), ['NAME', 'C', 40, 0], ['NOM', 'C', 40, 0]]"
      ]
     },
     "execution_count": 43,
     "metadata": {},
     "output_type": "execute_result"
    }
   ],
   "source": [
    "in_file.fields"
   ]
  },
  {
   "cell_type": "markdown",
   "metadata": {},
   "source": [
    "We will want our writer instance to write the same fields too:"
   ]
  },
  {
   "cell_type": "code",
   "execution_count": 70,
   "metadata": {
    "collapsed": true
   },
   "outputs": [],
   "source": [
    "out_file.fields = list(in_file.fields)"
   ]
  },
  {
   "cell_type": "markdown",
   "metadata": {},
   "source": [
    "The names of the proviences / territories are in the files 'records':"
   ]
  },
  {
   "cell_type": "code",
   "execution_count": 44,
   "metadata": {
    "collapsed": false
   },
   "outputs": [
    {
     "data": {
      "text/plain": [
       "[['Quebec', b'Qu\\xe9bec'],\n",
       " ['Nova Scotia', b'Nouvelle-\\xc9cosse'],\n",
       " ['Saskatchewan', 'Saskatchewan'],\n",
       " ['Alberta', 'Alberta'],\n",
       " ['Newfoundland and Labrador', 'Terre-Neuve-et-Labrador'],\n",
       " ['British Columbia', 'Colombie-Britannique'],\n",
       " ['New Brunswick', 'Nouveau-Brunswick'],\n",
       " ['Prince Edward Island', b'\\xcele-du-Prince-\\xc9douard'],\n",
       " ['Yukon Territory', 'Territoire du Yukon'],\n",
       " ['Manitoba', 'Manitoba'],\n",
       " ['Ontario', 'Ontario'],\n",
       " ['Nunavut', 'Nunavut'],\n",
       " ['Northwest Territories', 'Territories Nord-Ouest']]"
      ]
     },
     "execution_count": 44,
     "metadata": {},
     "output_type": "execute_result"
    }
   ],
   "source": [
    "in_file.records()"
   ]
  },
  {
   "cell_type": "markdown",
   "metadata": {},
   "source": [
    "From here we can identify the index for a particular province, say 'Alberta'. Note the difference in the syntax between **.records()** and **.record(i)**"
   ]
  },
  {
   "cell_type": "code",
   "execution_count": 45,
   "metadata": {
    "collapsed": false
   },
   "outputs": [
    {
     "data": {
      "text/plain": [
       "['Alberta', 'Alberta']"
      ]
     },
     "execution_count": 45,
     "metadata": {},
     "output_type": "execute_result"
    }
   ],
   "source": [
    "in_file.record(3)"
   ]
  },
  {
   "cell_type": "markdown",
   "metadata": {},
   "source": [
    "One of the properties of the object instance is 'bounding box', which is the smallest square/rectangular box that can be drawn around the object. ie If you were to draw a box to contain Canada with only four corners, those courners would be at the points:"
   ]
  },
  {
   "cell_type": "code",
   "execution_count": 46,
   "metadata": {
    "collapsed": false
   },
   "outputs": [
    {
     "data": {
      "text/plain": [
       "[-2314694.546259914, 321591.8552395543, 3093024.6057310738, 4811136.8047284745]"
      ]
     },
     "execution_count": 46,
     "metadata": {},
     "output_type": "execute_result"
    }
   ],
   "source": [
    "in_file.bbox"
   ]
  },
  {
   "cell_type": "markdown",
   "metadata": {},
   "source": [
    "Except in this case they don't make much sence to us, without knowing the projection. When QGIS reads these points together with a netadata file, it then knows where Canada fits on the map canvas. These points are important though because you may want to see if features from another file are contained inside this bounding box.\n",
    "\n",
    "The outlines / polygons of the provinces are known as .shapes, and in this case there is one 'shape' for each province territory:"
   ]
  },
  {
   "cell_type": "code",
   "execution_count": 63,
   "metadata": {
    "collapsed": false
   },
   "outputs": [
    {
     "data": {
      "text/plain": [
       "13"
      ]
     },
     "execution_count": 63,
     "metadata": {},
     "output_type": "execute_result"
    }
   ],
   "source": [
    "len(in_file.shapes())"
   ]
  },
  {
   "cell_type": "markdown",
   "metadata": {},
   "source": [
    "Again, we can just select the shape we want, and we will jets access the data for Alberta:"
   ]
  },
  {
   "cell_type": "code",
   "execution_count": 69,
   "metadata": {
    "collapsed": false
   },
   "outputs": [
    {
     "data": {
      "text/plain": [
       "<shapefile._Shape at 0x7f2cb23d5550>"
      ]
     },
     "execution_count": 69,
     "metadata": {},
     "output_type": "execute_result"
    }
   ],
   "source": [
    "shapes = in_file.shapes()\n",
    "shapes[3]"
   ]
  },
  {
   "cell_type": "markdown",
   "metadata": {},
   "source": [
    "# <a id='readings'></a>"
   ]
  },
  {
   "cell_type": "markdown",
   "metadata": {},
   "source": [
    "## Suggested Readings"
   ]
  },
  {
   "cell_type": "markdown",
   "metadata": {},
   "source": [
    "# <a id='references'></a>"
   ]
  },
  {
   "cell_type": "markdown",
   "metadata": {},
   "source": [
    "## References\n",
    "\n",
    "- Python pyShp library: https://pypi.python.org/pypi/pyshp. Python Software Foundation. 2015.\n",
    "\n",
    "- Lawhead, J; *\"Learning Geospatial Analysis with Python Second Edition\"*. Packt Publishing. 2015\n",
    "\n",
    "- *\"ESRI Shapefile Technical Discription\"*. Environmental Systems Research Institute, Inc. 1998.\n",
    "\n",
    "- Lawhead, J; <a href='http://geospatialpython.com/2015/05/clipping-shapefile-in-pure-python.html'>*\"Clipping a Shapefile in Pure Python\"*</a> . GeospatialPython. 2015"
   ]
  },
  {
   "cell_type": "code",
   "execution_count": null,
   "metadata": {
    "collapsed": true
   },
   "outputs": [],
   "source": []
  }
 ],
 "metadata": {
  "kernelspec": {
   "display_name": "Python 3",
   "language": "python",
   "name": "python3"
  },
  "language_info": {
   "codemirror_mode": {
    "name": "ipython",
    "version": 3
   },
   "file_extension": ".py",
   "mimetype": "text/x-python",
   "name": "python",
   "nbconvert_exporter": "python",
   "pygments_lexer": "ipython3",
   "version": "3.5.1"
  }
 },
 "nbformat": 4,
 "nbformat_minor": 0
}
