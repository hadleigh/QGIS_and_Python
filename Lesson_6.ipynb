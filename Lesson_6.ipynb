{
 "cells": [
  {
   "cell_type": "markdown",
   "metadata": {},
   "source": [
    "# Lesson 6: Clipping Raster Images with Python"
   ]
  },
  {
   "cell_type": "markdown",
   "metadata": {},
   "source": [
    "## Sections:\n",
    "\n",
    "1. [Loading Shapefile and Raster Data](#step_1)\n",
    "\n",
    "\n",
    "- [Suggested Readings](#readings)\n",
    "- [References](#references)"
   ]
  },
  {
   "cell_type": "markdown",
   "metadata": {},
   "source": [
    "# <a id='step_1'></a>"
   ]
  },
  {
   "cell_type": "markdown",
   "metadata": {},
   "source": [
    "## Step 1: Loading Shapefile and Raster Data"
   ]
  },
  {
   "cell_type": "code",
   "execution_count": 24,
   "metadata": {
    "collapsed": false
   },
   "outputs": [],
   "source": [
    "import shapefile as sf\n",
    "from osgeo import gdal, gdalnumeric, ogr, osr\n",
    "import pandas as pd"
   ]
  },
  {
   "cell_type": "code",
   "execution_count": 2,
   "metadata": {
    "collapsed": true
   },
   "outputs": [],
   "source": [
    "raster = \"Data/AERONET_Fort_McMurray.2016136.terra.1km.tif\"\n",
    "shp = \"Data/Alberta/Alberta.shp\""
   ]
  },
  {
   "cell_type": "code",
   "execution_count": 3,
   "metadata": {
    "collapsed": true
   },
   "outputs": [],
   "source": [
    "# Open and transform the raster file into a numpy array and as a gdal image.\n",
    "# The gdal image is class of gdal.Dataset, which inherits all the gda;.MajorObject methods\n",
    "# See help(gdal.Dataset)\n",
    "\n",
    "raster_array = gdalnumeric.LoadFile(raster)\n",
    "f = gdal.Open(raster)\n",
    "raster_image = f.GetGeoTransform()"
   ]
  },
  {
   "cell_type": "code",
   "execution_count": 51,
   "metadata": {
    "collapsed": false
   },
   "outputs": [
    {
     "name": "stdout",
     "output_type": "stream",
     "text": [
      "Alberta\n"
     ]
    }
   ],
   "source": [
    "# Create an org.DataSource object by opening the shapefile, extract the layer that we want as a MajorObject:\n",
    "# see http://gdal.org/python/osgeo.ogr.Layer-class.html\n",
    "\n",
    "shape_file = ogr.Open(shp)\n",
    "shape_layer = shape_file.GetLayer()\n",
    "print(shape_layer.GetName())\n",
    "\n",
    "# -----------------------------------------------------------------------------\n",
    "# Other methods to help find the layer you need if there is more than one:\n",
    "\n",
    "#help(ogr.DataSource.GetLayer)\n",
    "#help(ogr.DataSource.GetLayerByIndex)\n",
    "#help(ogr.DataSource.GetLayerByName)\n",
    "#-------------------------------------------------------------------------------\n",
    "\n",
    "poly = shape_layer.GetNextFeature()\n",
    "geom = poly.GetGeometryRef()\n",
    "pts = geom.GetGeometryRef(0)\n",
    "pts.GetPointCount()\n",
    "\n",
    "# ---------------------------------------------------------------------------------------------------------------------\n",
    "# Our method from lesson 5 does indeed get us the pionts we want, but the layer is abstract (not a defined object) \n",
    "# and the points are a list.\n",
    "# Using the org-layer object then the geometry of the layer is an attriburte.\n",
    "#\n",
    "# simple way to access points only, from lesson 5:\n",
    "#\n",
    "# alberta = sf.Reader(\"Data/Alberta/Alberta\")\n",
    "# points = alberta.shape(0).points\n",
    "# len(points)\n",
    "#-----------------------------------------------------------------------------------------------------------------------\n",
    "\n",
    "X_min, Y_min, X_max, Y_max = shape_layer.GetExtent()\n",
    "\n",
    "#----------------------------------------------------------\n",
    "# same as:\n",
    "# bb = albert.shape(0).bbox\n",
    "# X_min = bb[0]\n",
    "# Y_min = bb[1]\n",
    "# X_max = bb[2]\n",
    "# Y_max = bb[3]\n",
    "# ---------------------------------------------------------\n",
    "\n"
   ]
  },
  {
   "cell_type": "code",
   "execution_count": 53,
   "metadata": {
    "collapsed": false
   },
   "outputs": [],
   "source": [
    "#\n",
    "#-------------------------------------------------------------------------------------------\n",
    "# J Lawheads function to convert geo-coordinate to pixel placement\n",
    "# see: http://geospatialpython.com/2011/02/clip-raster-using-shapefile.html\n",
    "#-------------------------------------------------------------------------------------------\n",
    "#\n",
    "\n",
    "def world2Pixel(geoMatrix, x, y):\n",
    "  \"\"\"\n",
    "  Uses a gdal geomatrix (gdal.GetGeoTransform()) to calculate\n",
    "  the pixel location of a geospatial coordinate \n",
    "  \"\"\"\n",
    "  ulX = geoMatrix[0]\n",
    "  ulY = geoMatrix[3]\n",
    "  xDist = geoMatrix[1]\n",
    "  yDist = geoMatrix[5]\n",
    "  rtnX = geoMatrix[2]\n",
    "  rtnY = geoMatrix[4]\n",
    "  pixel = int((x - ulX) / xDist)\n",
    "  line = int((ulY - y) / yDist)\n",
    "  return (pixel, line) \n",
    "\n",
    "\n",
    "# then we pass the raster image and the known x and y min/max values from the shape_layer t turn the image pixels into \n",
    "# appropriate pixel locations:\n",
    "\n",
    "upper_left_x, upper_left_y = world2Pixel(raster_image, X_min, Y_max)\n",
    "lower_right_x, lower_right_y = world2Pixel(raster_image, X_max, Y_min)\n"
   ]
  },
  {
   "cell_type": "code",
   "execution_count": 48,
   "metadata": {
    "collapsed": false
   },
   "outputs": [
    {
     "name": "stdout",
     "output_type": "stream",
     "text": [
      "Help on function GetGeoTransform in module osgeo.gdal:\n",
      "\n",
      "GetGeoTransform(self, *args, **kwargs)\n",
      "    GetGeoTransform(self, int can_return_null = None)\n",
      "\n"
     ]
    }
   ],
   "source": [
    "help(gdal.Dataset.GetGeoTransform)"
   ]
  },
  {
   "cell_type": "markdown",
   "metadata": {},
   "source": [
    "# <a id='readings'></a>"
   ]
  },
  {
   "cell_type": "markdown",
   "metadata": {},
   "source": [
    "## Suggested Readings"
   ]
  },
  {
   "cell_type": "markdown",
   "metadata": {},
   "source": [
    "# <a id='References'></a>"
   ]
  },
  {
   "cell_type": "markdown",
   "metadata": {},
   "source": [
    "## References\n",
    "\n",
    "- Lawhead, J; *\"Clip a Raster Using a Shapefile\"*, <a href='http://geospatialpython.com/2011/02/clip-raster-using-shapefile.html'>GeospatialPython.com</a>. 2011."
   ]
  },
  {
   "cell_type": "code",
   "execution_count": null,
   "metadata": {
    "collapsed": true
   },
   "outputs": [],
   "source": []
  }
 ],
 "metadata": {
  "kernelspec": {
   "display_name": "Python 3",
   "language": "python",
   "name": "python3"
  },
  "language_info": {
   "codemirror_mode": {
    "name": "ipython",
    "version": 3
   },
   "file_extension": ".py",
   "mimetype": "text/x-python",
   "name": "python",
   "nbconvert_exporter": "python",
   "pygments_lexer": "ipython3",
   "version": "3.5.1"
  }
 },
 "nbformat": 4,
 "nbformat_minor": 0
}
